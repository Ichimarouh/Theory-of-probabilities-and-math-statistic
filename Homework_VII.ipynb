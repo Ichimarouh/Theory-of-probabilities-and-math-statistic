{
 "cells": [
  {
   "cell_type": "markdown",
   "metadata": {},
   "source": [
    "## Урок 7. Многомерный статистический анализ. Линейная регрессия."
   ]
  },
  {
   "cell_type": "markdown",
   "metadata": {},
   "source": [
    "#### 1. Даны значения величины заработной платы заемщиков банка (zp) и значения их поведенческого кредитного скоринга (ks): zp = [35, 45, 190, 200, 40, 70, 54, 150, 120, 110], ks = [401, 574, 874, 919, 459, 739, 653, 902, 746, 832]. Используя математические операции, посчитать коэффициенты линейной регрессии, приняв за X заработную плату (то есть, zp - признак), а за y - значения скорингового балла (то есть, ks - целевая переменная). Произвести расчет как с использованием intercept, так и без."
   ]
  },
  {
   "cell_type": "markdown",
   "metadata": {},
   "source": [
    "Расчет с интерсептом."
   ]
  },
  {
   "cell_type": "code",
   "execution_count": 46,
   "metadata": {},
   "outputs": [],
   "source": [
    "import numpy as np"
   ]
  },
  {
   "cell_type": "code",
   "execution_count": 47,
   "metadata": {},
   "outputs": [],
   "source": [
    "zp = np.array([35, 45, 190, 200, 40, 70, 54, 150, 120, 110])\n",
    "\n",
    "ks = np.array([401, 574, 874, 919, 459, 739, 653, 902, 746, 832])"
   ]
  },
  {
   "cell_type": "code",
   "execution_count": 48,
   "metadata": {},
   "outputs": [],
   "source": [
    "X = zp\n",
    "\n",
    "Y = ks"
   ]
  },
  {
   "cell_type": "markdown",
   "metadata": {},
   "source": [
    "Для расчета коэффичиентов воспользуемся формулами:"
   ]
  },
  {
   "cell_type": "markdown",
   "metadata": {},
   "source": [
    "$$b = \\frac{\\overline{yx} - \\overline{y} \\cdot {\\overline{x}}}{\\overline{x^2} - (\\overline{x})^2};$$"
   ]
  },
  {
   "cell_type": "markdown",
   "metadata": {},
   "source": [
    "$$a = \\overline{y} - b \\cdot {\\overline{x}}.$$"
   ]
  },
  {
   "cell_type": "code",
   "execution_count": 49,
   "metadata": {},
   "outputs": [
    {
     "data": {
      "text/plain": [
       "2.620538882402765"
      ]
     },
     "execution_count": 49,
     "metadata": {},
     "output_type": "execute_result"
    }
   ],
   "source": [
    "b = (np.mean(X*Y) - np.mean(X)*np.mean(Y))/(np.mean(X**2) - (np.mean(X)**2))\n",
    "\n",
    "b"
   ]
  },
  {
   "cell_type": "code",
   "execution_count": 50,
   "metadata": {},
   "outputs": [
    {
     "data": {
      "text/plain": [
       "444.1773573243596"
      ]
     },
     "execution_count": 50,
     "metadata": {},
     "output_type": "execute_result"
    }
   ],
   "source": [
    "a = np.mean(Y) - b*np.mean(X)\n",
    "\n",
    "a"
   ]
  },
  {
   "cell_type": "markdown",
   "metadata": {},
   "source": [
    "Расчет без интерсепта."
   ]
  },
  {
   "cell_type": "code",
   "execution_count": 51,
   "metadata": {},
   "outputs": [
    {
     "data": {
      "text/plain": [
       "array([[ 35],\n",
       "       [ 45],\n",
       "       [190],\n",
       "       [200],\n",
       "       [ 40],\n",
       "       [ 70],\n",
       "       [ 54],\n",
       "       [150],\n",
       "       [120],\n",
       "       [110]])"
      ]
     },
     "execution_count": 51,
     "metadata": {},
     "output_type": "execute_result"
    }
   ],
   "source": [
    "X = X.reshape(len(X), 1)\n",
    "\n",
    "X"
   ]
  },
  {
   "cell_type": "code",
   "execution_count": 52,
   "metadata": {},
   "outputs": [
    {
     "data": {
      "text/plain": [
       "array([[401],\n",
       "       [574],\n",
       "       [874],\n",
       "       [919],\n",
       "       [459],\n",
       "       [739],\n",
       "       [653],\n",
       "       [902],\n",
       "       [746],\n",
       "       [832]])"
      ]
     },
     "execution_count": 52,
     "metadata": {},
     "output_type": "execute_result"
    }
   ],
   "source": [
    "Y =Y.reshape(len(Y), 1)\n",
    "\n",
    "Y"
   ]
  },
  {
   "cell_type": "markdown",
   "metadata": {},
   "source": [
    "Произведем преобразования:"
   ]
  },
  {
   "cell_type": "code",
   "execution_count": 53,
   "metadata": {},
   "outputs": [
    {
     "data": {
      "text/plain": [
       "array([[5.88982042]])"
      ]
     },
     "execution_count": 53,
     "metadata": {},
     "output_type": "execute_result"
    }
   ],
   "source": [
    "coef = np.dot(np.linalg.inv(np.dot(X.T, X)), X.T @ Y)\n",
    "\n",
    "coef"
   ]
  },
  {
   "cell_type": "markdown",
   "metadata": {},
   "source": [
    "#### 2. Посчитать коэффициент линейной регрессии при заработной плате (zp), используя градиентный спуск (без intercept)."
   ]
  },
  {
   "cell_type": "code",
   "execution_count": 54,
   "metadata": {},
   "outputs": [],
   "source": [
    "def mse(B1, n = 10, X = X, Y = Y):\n",
    "    return np.sum((B1*X-Y)**2)/n"
   ]
  },
  {
   "cell_type": "code",
   "execution_count": 55,
   "metadata": {},
   "outputs": [],
   "source": [
    "B1 = 0.1\n",
    "\n",
    "alpha = 1e-6\n",
    "\n",
    "X = np.array([35, 45, 190, 200, 40, 70, 54, 150, 120, 110])\n",
    "\n",
    "Y = np.array([401, 574, 874, 919, 459, 739, 653, 902, 746, 832])"
   ]
  },
  {
   "cell_type": "code",
   "execution_count": 56,
   "metadata": {},
   "outputs": [
    {
     "name": "stdout",
     "output_type": "stream",
     "text": [
      "Iteration: 0, B1=0.10139952, mse=518113.0902451018\n",
      "Iteration: 5000, B1=4.49831491213524, mse=83192.31787363968\n",
      "Iteration: 10000, B1=6.093197967981813, mse=57086.692027102225\n",
      "Iteration: 15000, B1=6.671706248213084, mse=64939.120116743536\n"
     ]
    }
   ],
   "source": [
    "for i in range(15001):\n",
    "    B1 -= alpha * (2/n) * np.sum(B1*X-Y)\n",
    "    if i%5000 == 0:\n",
    "        print('Iteration: {i}, B1={B1}, mse={mse}'.format(i=i, B1=B1, mse=mse(B1)))"
   ]
  },
  {
   "cell_type": "markdown",
   "metadata": {},
   "source": [
    "#### *3. Произвести вычисления как в пункте 2, но с вычислением intercept. Учесть, что изменение коэффициентов должно производиться на каждом шаге одновременно (то есть изменение одного коэффициента не должно влиять на изменение другого во время одной итерации)."
   ]
  },
  {
   "cell_type": "code",
   "execution_count": 57,
   "metadata": {},
   "outputs": [],
   "source": [
    "def mse(B0, B1, Y = Y, X = X, n = 10):\n",
    "    return np.sum((B0 + B1*X-Y)**2)/n"
   ]
  },
  {
   "cell_type": "code",
   "execution_count": 58,
   "metadata": {},
   "outputs": [],
   "source": [
    "B0 = 0.1\n",
    "\n",
    "B1 = 0.1\n",
    "\n",
    "alpha = 1e-6\n",
    "\n",
    "X = np.array([35, 45, 190, 200, 40, 70, 54, 150, 120, 110])\n",
    "\n",
    "Y = np.array([401, 574, 874, 919, 459, 739, 653, 902, 746, 832])"
   ]
  },
  {
   "cell_type": "code",
   "execution_count": 59,
   "metadata": {},
   "outputs": [
    {
     "name": "stdout",
     "output_type": "stream",
     "text": [
      "Iteration: 0, B0 = 0.10139932, B1 = 0.897539, mse = 399743.82162669196\n",
      "Iteration: 300000, B0 = 62.8028915116998, B1 = 5.427582219767563, mse = 43365.083276208854\n",
      "Iteration: 600000, B0 = 116.64580063421093, B1 = 5.0312804406365865, mse = 33682.80462537021\n",
      "Iteration: 900000, B0 = 162.8871026155677, B1 = 4.690929026807002, mse = 26541.449154567166\n",
      "Iteration: 1200000, B0 = 202.60000156139094, B1 = 4.398628837921063, mse = 21274.20166051159\n",
      "Iteration: 1500000, B0 = 236.7061853214533, B1 = 4.147595943826756, mse = 17389.23944611753\n",
      "Iteration: 1800000, B0 = 265.9972167382886, B1 = 3.9320041778495347, mse = 14523.808986601416\n",
      "Iteration: 2100000, B0 = 291.1529048532986, B1 = 3.7468499185846977, mse = 12410.354269359905\n",
      "Iteration: 2400000, B0 = 312.7570824438433, B1 = 3.5878359619592586, mse = 10851.534083374925\n",
      "Iteration: 2700000, B0 = 331.3111560684698, B1 = 3.4512717883772557, mse = 9701.795528575305\n",
      "Iteration: 3000000, B0 = 347.24574310034006, B1 = 3.333987910270317, mse = 8853.783194452806\n",
      "Iteration: 3300000, B0 = 360.9306658301257, B1 = 3.233262312165208, mse = 8228.314981857457\n"
     ]
    }
   ],
   "source": [
    "for i in range(3500000):\n",
    "    Y_pred = B0 + B1*X\n",
    "    B0 -= alpha * (2/n) * np.sum(Y_pred - Y)\n",
    "    B1 -= alpha * np.sum((Y_pred - Y) * X)\n",
    "    if i % 300000 == 0:\n",
    "        print('Iteration: {i}, B0 = {B0}, B1 = {B1}, mse = {mse}'\n",
    "              .format(i=i, B0 = B0, B1= B1, mse=mse(B0, B1)))"
   ]
  }
 ],
 "metadata": {
  "kernelspec": {
   "display_name": "Python 3",
   "language": "python",
   "name": "python3"
  },
  "language_info": {
   "codemirror_mode": {
    "name": "ipython",
    "version": 3
   },
   "file_extension": ".py",
   "mimetype": "text/x-python",
   "name": "python",
   "nbconvert_exporter": "python",
   "pygments_lexer": "ipython3",
   "version": "3.8.5"
  }
 },
 "nbformat": 4,
 "nbformat_minor": 4
}
