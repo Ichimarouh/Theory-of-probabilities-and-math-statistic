{
 "cells": [
  {
   "cell_type": "markdown",
   "metadata": {},
   "source": [
    "## Урок 5. Проверка статистических гипотез. P-значения. Доверительные интервалы. A/B-тестирование"
   ]
  },
  {
   "cell_type": "markdown",
   "metadata": {},
   "source": [
    "#### 1. Известно, что генеральная совокупность распределена нормально со средним квадратическим отклонением, равным 16. Найти доверительный интервал для оценки математического ожидания с надежностью 0.95, если выборочная средняя M = 80, а объем выборки n = 256."
   ]
  },
  {
   "cell_type": "markdown",
   "metadata": {},
   "source": [
    "Из условия задачи известно: $\\overline{X} = 80$, ${s_0} = 16$, $1 - α = 0,95$ или $α = 0,05$, $n = 256$."
   ]
  },
  {
   "cell_type": "markdown",
   "metadata": {},
   "source": [
    "Согласно Z-Score table, при $α = 0,05$ $Z_{a/2} = 1,96.$"
   ]
  },
  {
   "cell_type": "markdown",
   "metadata": {},
   "source": [
    "Доверительный интервал расчитывается по формуле: $T_{1,2} = \\overline{X} \\pm \\frac{s_0}{\\sqrt{n}} \\cdot Z_{a/2}$."
   ]
  },
  {
   "cell_type": "markdown",
   "metadata": {},
   "source": [
    "Первая граница:"
   ]
  },
  {
   "cell_type": "markdown",
   "metadata": {},
   "source": [
    "$T_{1} = \\overline{X} - \\frac{s_0}{\\sqrt{n}} \\cdot Z_{a/2} = 80-\\frac{16}{16} \\cdot 1,96 = 78,04$."
   ]
  },
  {
   "cell_type": "markdown",
   "metadata": {},
   "source": [
    "Вторая граница:"
   ]
  },
  {
   "cell_type": "markdown",
   "metadata": {},
   "source": [
    "$T_{1} = \\overline{X} + \\frac{s_0}{\\sqrt{n}} \\cdot Z_{a/2} = 80+\\frac{16}{16} \\cdot 1,96 = 81,96$."
   ]
  },
  {
   "cell_type": "markdown",
   "metadata": {},
   "source": [
    "####  2. В результате 10 независимых измерений некоторой величины X, выполненных с одинаковой точностью, получены опытные данные: 6.9, 6.1, 6.2, 6.8, 7.5, 6.3, 6.4, 6.9, 6.7, 6.1 Предполагая, что результаты измерений подчинены нормальному закону распределения вероятностей, оценить истинное значение величины X при помощи доверительного интервала, покрывающего это значение с доверительной вероятностью 0,95."
   ]
  },
  {
   "cell_type": "markdown",
   "metadata": {},
   "source": [
    "Из условия задачи известно: $n = 10$, $1-a = 0,95$ или $a = 0,05$."
   ]
  },
  {
   "cell_type": "code",
   "execution_count": 30,
   "metadata": {},
   "outputs": [],
   "source": [
    "import numpy as np"
   ]
  },
  {
   "cell_type": "code",
   "execution_count": 31,
   "metadata": {},
   "outputs": [],
   "source": [
    "a = np.array([6.9, 6.1, 6.2, 6.8, 7.5, 6.3, 6.4, 6.9, 6.7, 6.1])"
   ]
  },
  {
   "cell_type": "markdown",
   "metadata": {},
   "source": [
    "Определим среднее значение величины X:"
   ]
  },
  {
   "cell_type": "code",
   "execution_count": 32,
   "metadata": {},
   "outputs": [
    {
     "data": {
      "text/plain": [
       "6.59"
      ]
     },
     "execution_count": 32,
     "metadata": {},
     "output_type": "execute_result"
    }
   ],
   "source": [
    "round(a.mean(), 5)"
   ]
  },
  {
   "cell_type": "markdown",
   "metadata": {},
   "source": [
    "Найдем среднеквадратичное отклонение несмещенной дисперсии:"
   ]
  },
  {
   "cell_type": "code",
   "execution_count": 33,
   "metadata": {},
   "outputs": [
    {
     "data": {
      "text/plain": [
       "0.4508"
      ]
     },
     "execution_count": 33,
     "metadata": {},
     "output_type": "execute_result"
    }
   ],
   "source": [
    "sigma = round(np.sqrt(a.var(ddof=1)), 5)\n",
    "\n",
    "sigma"
   ]
  },
  {
   "cell_type": "markdown",
   "metadata": {},
   "source": [
    "Согласно таблице для t-критерия Стьюдента, для $n = 9$ и $a = 0,05$ значение  $t_{a/2} = 2,2622$."
   ]
  },
  {
   "cell_type": "markdown",
   "metadata": {},
   "source": [
    "Определим границы по формуле $T_{1,2} = \\overline{X} \\pm \\frac{s_0}{\\sqrt{n}} \\cdot t_{a/2}$."
   ]
  },
  {
   "cell_type": "markdown",
   "metadata": {},
   "source": [
    "Первая граница:"
   ]
  },
  {
   "cell_type": "markdown",
   "metadata": {},
   "source": [
    "$T_{1} = \\overline{X} - \\frac{s_0}{\\sqrt{n}} \\cdot Z_{a/2} = 6,59 - \\frac{0,4508}{\\sqrt{10}} \\cdot 2,2622 = 6,59 - 0,32249 = 6,26751$."
   ]
  },
  {
   "cell_type": "markdown",
   "metadata": {},
   "source": [
    "Вторая граница:"
   ]
  },
  {
   "cell_type": "markdown",
   "metadata": {},
   "source": [
    "$T_{2} = \\overline{X} + \\frac{s_0}{\\sqrt{n}} \\cdot Z_{a/2} = 6,59 + \\frac{0,4508}{\\sqrt{10}} \\cdot 2,2622 = 6,59 + 0,32249 = 6,26751 = 6,91249$."
   ]
  },
  {
   "cell_type": "markdown",
   "metadata": {},
   "source": [
    "#### 3. Утверждается, что шарики для подшипников, изготовленные автоматическим станком, имеют средний диаметр 17 мм. Используя односторонний критерий с α=0,05, проверить эту гипотезу, если в выборке из n=100 шариков средний диаметр оказался равным 17.5 мм, а дисперсия известна и равна 4 кв.мм."
   ]
  },
  {
   "cell_type": "markdown",
   "metadata": {},
   "source": [
    "По условию задачи: $\\mu_{0} = 17$, $\\mu=17,5$, $a = 0,05$, $n = 100$, $D = 4$."
   ]
  },
  {
   "cell_type": "markdown",
   "metadata": {},
   "source": [
    "Сформулируем нулевую гипотезу: $\\mu_0 = \\mu$. Тогда альтернативной гипотезой будет: $\\mu_0 < \\mu$."
   ]
  },
  {
   "cell_type": "markdown",
   "metadata": {},
   "source": [
    "Для определения верности гипотез сравним Z-критерии- расчетный и табличный."
   ]
  },
  {
   "cell_type": "markdown",
   "metadata": {},
   "source": [
    "$Z_{р} = \\frac{\\mu-\\mu_0}{\\frac{\\sqrt{D}}{\\sqrt{n}}}=\\frac{17,5-17}{\\frac{\\sqrt{4}}{\\sqrt{100}}}=2,5$."
   ]
  },
  {
   "cell_type": "markdown",
   "metadata": {},
   "source": [
    "Табличное значение Z для $a=0,05$ составляет 1,65. Из этого следует, что верна альтернативная гипотеза."
   ]
  },
  {
   "cell_type": "markdown",
   "metadata": {},
   "source": [
    "#### 4. Продавец утверждает, что средний вес пачки печенья составляет 200 г. Из партии извлечена выборка из 10 пачек. Вес каждой пачки составляет: 202, 203, 199, 197, 195, 201, 200, 204, 194, 190. Известно, что их веса распределены нормально. Верно ли утверждение продавца, если учитывать, что доверительная вероятность равна 99%?"
   ]
  },
  {
   "cell_type": "markdown",
   "metadata": {},
   "source": [
    "Из условия задачи известно: $\\mu_0 = 200$, $a = 0,01$, $n = 10$."
   ]
  },
  {
   "cell_type": "markdown",
   "metadata": {},
   "source": [
    "Сформулируем нулевую гипотезу: $\\mu_0 = \\mu$. Тогда, поскольку по условию речь идет о двухстороннем тесте, альтернативной гипотезой будет: $\\mu_0 \\ne \\mu$."
   ]
  },
  {
   "cell_type": "code",
   "execution_count": 34,
   "metadata": {},
   "outputs": [],
   "source": [
    "miu = np.array([202, 203, 199, 197, 195, 201, 200, 204, 194, 190])"
   ]
  },
  {
   "cell_type": "markdown",
   "metadata": {},
   "source": [
    "Вычислим среднее значение $\\mu$:"
   ]
  },
  {
   "cell_type": "code",
   "execution_count": 35,
   "metadata": {},
   "outputs": [
    {
     "data": {
      "text/plain": [
       "198.5"
      ]
     },
     "execution_count": 35,
     "metadata": {},
     "output_type": "execute_result"
    }
   ],
   "source": [
    "round(miu.mean(), 5)"
   ]
  },
  {
   "cell_type": "markdown",
   "metadata": {},
   "source": [
    "Определим среднеквадратичное отклонение несмещенной дисперсии:"
   ]
  },
  {
   "cell_type": "code",
   "execution_count": 36,
   "metadata": {},
   "outputs": [
    {
     "data": {
      "text/plain": [
       "4.45346"
      ]
     },
     "execution_count": 36,
     "metadata": {},
     "output_type": "execute_result"
    }
   ],
   "source": [
    "sigma_ = round(np.sqrt(miu.var(ddof=1)), 5)\n",
    "\n",
    "sigma_"
   ]
  },
  {
   "cell_type": "markdown",
   "metadata": {},
   "source": [
    "$T_{р} = \\frac{\\mu-\\mu_0}{\\frac{\\sqrt{D}}{\\sqrt{n}}}=\\frac{198,5-200}{\\frac{4,45346}{\\sqrt{10}}}=-1,06511$."
   ]
  },
  {
   "cell_type": "markdown",
   "metadata": {},
   "source": [
    "Табличное значение распределения Стьюдента для 9 степеней свободы и $a = 0,005$ составляет $\\pm 3,25$."
   ]
  },
  {
   "cell_type": "markdown",
   "metadata": {},
   "source": [
    "Расчетное значение находится в интервале нулевой гипотезы."
   ]
  }
 ],
 "metadata": {
  "kernelspec": {
   "display_name": "Python 3",
   "language": "python",
   "name": "python3"
  },
  "language_info": {
   "codemirror_mode": {
    "name": "ipython",
    "version": 3
   },
   "file_extension": ".py",
   "mimetype": "text/x-python",
   "name": "python",
   "nbconvert_exporter": "python",
   "pygments_lexer": "ipython3",
   "version": "3.8.5"
  }
 },
 "nbformat": 4,
 "nbformat_minor": 4
}
